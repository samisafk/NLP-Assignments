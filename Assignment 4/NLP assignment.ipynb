{
 "cells": [
  {
   "cell_type": "code",
   "execution_count": 1,
   "metadata": {},
   "outputs": [],
   "source": [
    "import torch\n",
    "import torch.nn as nn\n",
    "import torch.optim as optim\n",
    "from torch.utils.data import Dataset, DataLoader\n",
    "import pandas as pd\n",
    "import numpy as np\n",
    "from sklearn.model_selection import train_test_split\n",
    "from tqdm import tqdm\n",
    "from rouge import Rouge\n",
    "import os\n",
    "from collections import Counter\n",
    "import nltk\n",
    "from nltk.tokenize import word_tokenize"
   ]
  },
  {
   "cell_type": "code",
   "execution_count": 2,
   "metadata": {},
   "outputs": [],
   "source": [
    "# Define the BiLSTM model\n",
    "class BiLSTMSummarizer(nn.Module):\n",
    "    def __init__(self, vocab_size, embedding_dim, hidden_dim, output_dim):\n",
    "        super(BiLSTMSummarizer, self).__init__()\n",
    "        self.embedding = nn.Embedding(vocab_size, embedding_dim)\n",
    "        self.encoder = nn.LSTM(embedding_dim, hidden_dim, bidirectional=True, batch_first=True)\n",
    "        self.decoder = nn.LSTM(embedding_dim, hidden_dim * 2, batch_first=True)\n",
    "        self.fc = nn.Linear(hidden_dim * 2, output_dim)\n",
    "\n",
    "    def forward(self, src, trg, teacher_forcing_ratio=0.5):\n",
    "        batch_size = src.shape[0]\n",
    "        trg_len = trg.shape[1]\n",
    "        trg_vocab_size = self.fc.out_features\n",
    "\n",
    "        outputs = torch.zeros(batch_size, trg_len, trg_vocab_size).to(src.device)\n",
    "\n",
    "        embedded = self.embedding(src)\n",
    "        enc_output, (hidden, cell) = self.encoder(embedded)\n",
    "\n",
    "        hidden = torch.cat((hidden[-2, :, :], hidden[-1, :, :]), dim=1).unsqueeze(0)\n",
    "        cell = torch.cat((cell[-2, :, :], cell[-1, :, :]), dim=1).unsqueeze(0)\n",
    "\n",
    "        input = trg[:, 0]\n",
    "\n",
    "        for t in range(1, trg_len):\n",
    "            input_embedded = self.embedding(input).unsqueeze(1)\n",
    "            output, (hidden, cell) = self.decoder(input_embedded, (hidden, cell))\n",
    "            prediction = self.fc(output.squeeze(1))\n",
    "            outputs[:, t] = prediction\n",
    "\n",
    "            teacher_force = torch.rand(1).item() < teacher_forcing_ratio\n",
    "            top1 = prediction.argmax(1)\n",
    "            input = trg[:, t] if teacher_force else top1\n",
    "\n",
    "        return outputs\n"
   ]
  },
  {
   "cell_type": "code",
   "execution_count": 3,
   "metadata": {},
   "outputs": [],
   "source": [
    "# Custom dataset class\n",
    "class SummarizationDataset(Dataset):\n",
    "    def __init__(self, articles, summaries, vocab, max_length=100):\n",
    "        self.articles = articles\n",
    "        self.summaries = summaries\n",
    "        self.vocab = vocab\n",
    "        self.max_length = max_length\n",
    "\n",
    "    def __len__(self):\n",
    "        return len(self.articles)\n",
    "\n",
    "    def __getitem__(self, idx):\n",
    "        article = self.articles[idx]\n",
    "        summary = self.summaries[idx]\n",
    "\n",
    "        article_indices = [self.vocab['<sos>']] + [self.vocab.get(token, self.vocab['<unk>']) for token in article][:self.max_length-2] + [self.vocab['<eos>']]\n",
    "        summary_indices = [self.vocab['<sos>']] + [self.vocab.get(token, self.vocab['<unk>']) for token in summary][:self.max_length-2] + [self.vocab['<eos>']]\n",
    "\n",
    "        article_indices = article_indices + [self.vocab['<pad>']] * (self.max_length - len(article_indices))\n",
    "        summary_indices = summary_indices + [self.vocab['<pad>']] * (self.max_length - len(summary_indices))\n",
    "\n",
    "        return torch.tensor(article_indices), torch.tensor(summary_indices)\n"
   ]
  },
  {
   "cell_type": "code",
   "execution_count": 20,
   "metadata": {},
   "outputs": [],
   "source": [
    "def beam_search(model, src, vocab, inv_vocab, beam_width=3, max_length=100, min_length=10, device='cpu'):\n",
    "    model.eval()\n",
    "    with torch.no_grad():\n",
    "        # Embedding the input sequence\n",
    "        embedded = model.embedding(src)  # shape: (batch_size, seq_len, embedding_dim)\n",
    "        enc_output, (hidden, cell) = model.encoder(embedded)  # LSTM encoder output\n",
    "\n",
    "        # In case of bi-directional LSTM, combine the hidden states\n",
    "        if model.encoder.bidirectional:\n",
    "            hidden = torch.cat((hidden[-2, :, :], hidden[-1, :, :]), dim=1)  # shape: (batch_size, hidden_dim)\n",
    "            cell = torch.cat((cell[-2, :, :], cell[-1, :, :]), dim=1)        # shape: (batch_size, hidden_dim)\n",
    "        else:\n",
    "            hidden = hidden[-1, :, :]  # Take the last layer if not bi-directional\n",
    "            cell = cell[-1, :, :]      # Take the last layer if not bi-directional\n",
    "\n",
    "        # Now we process one sequence at a time, so set batch size to 1\n",
    "        hidden = hidden.unsqueeze(0)  # shape: (1, batch_size, hidden_dim)\n",
    "        cell = cell.unsqueeze(0)      # shape: (1, batch_size, hidden_dim)\n",
    "\n",
    "        # Initialize the beam with the start-of-sequence token\n",
    "        beam = [([vocab['<sos>']], 0, hidden[:, 0:1, :], cell[:, 0:1, :])]  # Start with one sequence\n",
    "        complete_hypotheses = []\n",
    "\n",
    "        # Perform beam search\n",
    "        for t in range(max_length):\n",
    "            new_beam = []\n",
    "            for seq, score, hidden, cell in beam:\n",
    "                # If end-of-sequence token is reached and length is >= min_length, add to complete hypotheses\n",
    "                if seq[-1] == vocab['<eos>'] and len(seq) >= min_length:\n",
    "                    complete_hypotheses.append((seq, score))\n",
    "                    continue\n",
    "\n",
    "                # Prepare the input for the decoder (last predicted token)\n",
    "                input = torch.LongTensor([seq[-1]]).unsqueeze(0).to(device)  # shape: (1, 1)\n",
    "                input_embedded = model.embedding(input)  # shape: (1, 1, embedding_dim)\n",
    "\n",
    "                # Pass through the decoder\n",
    "                output, (hidden, cell) = model.decoder(input_embedded, (hidden, cell))  # Decode step\n",
    "                predictions = model.fc(output.squeeze(1))  # Linear layer to get vocab distribution\n",
    "\n",
    "                # Get top beam_width predictions\n",
    "                topk_scores, topk_indices = torch.topk(predictions, beam_width, dim=1)\n",
    "\n",
    "                for i in range(beam_width):\n",
    "                    next_seq = seq + [topk_indices[0, i].item()]\n",
    "                    next_score = score + topk_scores[0, i].item()\n",
    "                    new_beam.append((next_seq, next_score, hidden, cell))\n",
    "\n",
    "            # Sort the beam by score and select the top candidates\n",
    "            beam = sorted(new_beam, key=lambda x: x[1], reverse=True)[:beam_width]\n",
    "\n",
    "        # If no complete hypotheses were found, return the highest scoring incomplete hypothesis\n",
    "        if len(complete_hypotheses) == 0:\n",
    "            complete_hypotheses = beam\n",
    "\n",
    "        # Return the sequence with the highest score\n",
    "        best_hypothesis = max(complete_hypotheses, key=lambda x: x[1])[0]\n",
    "        return [inv_vocab[idx] for idx in best_hypothesis if idx not in [vocab['<sos>'], vocab['<eos>'], vocab['<pad>']]]\n"
   ]
  },
  {
   "cell_type": "code",
   "execution_count": 4,
   "metadata": {},
   "outputs": [],
   "source": [
    "def load_data(file_path):\n",
    "    df = pd.read_csv(file_path)\n",
    "    articles = df['Content'].tolist()   # Use the 'Content' as the source article\n",
    "    summaries = df['Headline'].tolist() # Use the 'Headline' as the target summary\n",
    "    return articles, summaries"
   ]
  },
  {
   "cell_type": "code",
   "execution_count": 5,
   "metadata": {},
   "outputs": [],
   "source": [
    "# Tokenize text\n",
    "def tokenize(text):\n",
    "    return word_tokenize(text.lower())"
   ]
  },
  {
   "cell_type": "code",
   "execution_count": 6,
   "metadata": {},
   "outputs": [],
   "source": [
    "# Build vocabulary\n",
    "def build_vocab(texts, min_freq=2):\n",
    "    word_freq = Counter()\n",
    "    for text in texts:\n",
    "        word_freq.update(text)\n",
    "\n",
    "    vocab = {'<pad>': 0, '<unk>': 1, '<sos>': 2, '<eos>': 3}\n",
    "    for word, freq in word_freq.items():\n",
    "        if freq >= min_freq:\n",
    "            vocab[word] = len(vocab)\n",
    "\n",
    "    return vocab, {v: k for k, v in vocab.items()}"
   ]
  },
  {
   "cell_type": "code",
   "execution_count": 7,
   "metadata": {},
   "outputs": [],
   "source": [
    "# Load data\n",
    "articles, summaries = load_data('hindi_news_dataset.csv')"
   ]
  },
  {
   "cell_type": "code",
   "execution_count": 8,
   "metadata": {},
   "outputs": [],
   "source": [
    "# Tokenize data\n",
    "tokenized_articles = [tokenize(article) for article in articles]\n",
    "tokenized_summaries = [tokenize(summary) for summary in summaries]"
   ]
  },
  {
   "cell_type": "code",
   "execution_count": 9,
   "metadata": {},
   "outputs": [],
   "source": [
    "# Build vocabulary\n",
    "vocab, inv_vocab = build_vocab(tokenized_articles + tokenized_summaries)"
   ]
  },
  {
   "cell_type": "code",
   "execution_count": 10,
   "metadata": {},
   "outputs": [],
   "source": [
    "# Split data\n",
    "train_articles, test_articles, train_summaries, test_summaries = train_test_split(tokenized_articles, tokenized_summaries, test_size=0.2, random_state=42)\n",
    "train_articles, val_articles, train_summaries, val_summaries = train_test_split(train_articles, train_summaries, test_size=0.1, random_state=42)\n"
   ]
  },
  {
   "cell_type": "code",
   "execution_count": 11,
   "metadata": {},
   "outputs": [],
   "source": [
    "# Create datasets\n",
    "train_dataset = SummarizationDataset(train_articles, train_summaries, vocab)\n",
    "val_dataset = SummarizationDataset(val_articles, val_summaries, vocab)\n",
    "test_dataset = SummarizationDataset(test_articles, test_summaries, vocab)\n"
   ]
  },
  {
   "cell_type": "code",
   "execution_count": 12,
   "metadata": {},
   "outputs": [],
   "source": [
    "# Create data loaders\n",
    "train_loader = DataLoader(train_dataset, batch_size=128, shuffle=True)\n",
    "val_loader = DataLoader(val_dataset, batch_size=128)\n",
    "test_loader = DataLoader(test_dataset, batch_size=128)"
   ]
  },
  {
   "cell_type": "code",
   "execution_count": 13,
   "metadata": {},
   "outputs": [],
   "source": [
    "# Initialize model\n",
    "device = torch.device('cuda' if torch.cuda.is_available() else 'cpu')\n",
    "model = BiLSTMSummarizer(len(vocab), embedding_dim=128, hidden_dim=256, output_dim=len(vocab)).to(device)\n"
   ]
  },
  {
   "cell_type": "code",
   "execution_count": 14,
   "metadata": {},
   "outputs": [],
   "source": [
    "# Train function\n",
    "def train(model, iterator, optimizer, criterion, device, clip=1, teacher_forcing_ratio=0.5):\n",
    "    model.train()\n",
    "    epoch_loss = 0\n",
    "    for batch in tqdm(iterator, desc=\"Training\"):\n",
    "        src, trg = batch\n",
    "        src, trg = src.to(device), trg.to(device)\n",
    "\n",
    "        optimizer.zero_grad()\n",
    "        output = model(src, trg, teacher_forcing_ratio)\n",
    "\n",
    "        output_dim = output.shape[-1]\n",
    "        output = output[:, 1:].reshape(-1, output_dim)\n",
    "        trg = trg[:, 1:].reshape(-1)\n",
    "\n",
    "        loss = criterion(output, trg)\n",
    "        loss.backward()\n",
    "        torch.nn.utils.clip_grad_norm_(model.parameters(), clip)\n",
    "        optimizer.step()\n",
    "\n",
    "        epoch_loss += loss.item()\n",
    "\n",
    "    return epoch_loss / len(iterator)"
   ]
  },
  {
   "cell_type": "code",
   "execution_count": 15,
   "metadata": {},
   "outputs": [],
   "source": [
    "# Evaluation function\n",
    "def evaluate(model, iterator, criterion, device):\n",
    "    model.eval()\n",
    "    epoch_loss = 0\n",
    "    with torch.no_grad():\n",
    "        for batch in tqdm(iterator, desc=\"Evaluating\"):\n",
    "            src, trg = batch\n",
    "            src, trg = src.to(device), trg.to(device)\n",
    "\n",
    "            output = model(src, trg, 0)  # turn off teacher forcing\n",
    "\n",
    "            output_dim = output.shape[-1]\n",
    "            output = output[:, 1:].reshape(-1, output_dim)\n",
    "            trg = trg[:, 1:].reshape(-1)\n",
    "\n",
    "            loss = criterion(output, trg)\n",
    "            epoch_loss += loss.item()\n",
    "\n",
    "    return epoch_loss / len(iterator)"
   ]
  },
  {
   "cell_type": "code",
   "execution_count": 16,
   "metadata": {},
   "outputs": [],
   "source": [
    "# Define optimizer and loss function\n",
    "optimizer = optim.Adam(model.parameters())\n",
    "criterion = nn.CrossEntropyLoss(ignore_index=vocab['<pad>'])"
   ]
  },
  {
   "cell_type": "code",
   "execution_count": null,
   "metadata": {},
   "outputs": [],
   "source": [
    "# Training loop\n",
    "num_epochs = 10\n",
    "best_val_loss = float('inf')\n",
    "for epoch in range(num_epochs):\n",
    "    train_loss = train(model, train_loader, optimizer, criterion, device)\n",
    "    val_loss = evaluate(model, val_loader, criterion, device)\n",
    "    print(f'Epoch: {epoch+1:02}')\n",
    "    print(f'\\tTrain Loss: {train_loss:.3f}')\n",
    "    print(f'\\t Val. Loss: {val_loss:.3f}')\n",
    "\n",
    "    # Save model if validation loss improves\n",
    "    if val_loss < best_val_loss:\n",
    "        best_val_loss = val_loss\n",
    "        torch.save({'model_state_dict': model.state_dict(), 'vocab': vocab}, 'best_model.pth')\n",
    "        print(f\"Model saved to 'best_model.pth'\")\n"
   ]
  },
  {
   "cell_type": "code",
   "execution_count": 17,
   "metadata": {},
   "outputs": [],
   "source": [
    "# Load model function\n",
    "def load_model(filepath, device):\n",
    "    checkpoint = torch.load(filepath, map_location=device)\n",
    "    vocab = checkpoint['vocab']\n",
    "    model = BiLSTMSummarizer(len(vocab), embedding_dim=128, hidden_dim=256, output_dim=len(vocab)).to(device)\n",
    "    model.load_state_dict(checkpoint['model_state_dict'])\n",
    "    return model, checkpoint"
   ]
  },
  {
   "cell_type": "code",
   "execution_count": 26,
   "metadata": {},
   "outputs": [
    {
     "name": "stderr",
     "output_type": "stream",
     "text": [
      "C:\\Users\\samee\\AppData\\Local\\Temp\\ipykernel_34780\\67957849.py:3: FutureWarning: You are using `torch.load` with `weights_only=False` (the current default value), which uses the default pickle module implicitly. It is possible to construct malicious pickle data which will execute arbitrary code during unpickling (See https://github.com/pytorch/pytorch/blob/main/SECURITY.md#untrusted-models for more details). In a future release, the default value for `weights_only` will be flipped to `True`. This limits the functions that could be executed during unpickling. Arbitrary objects will no longer be allowed to be loaded via this mode unless they are explicitly allowlisted by the user via `torch.serialization.add_safe_globals`. We recommend you start setting `weights_only=True` for any use case where you don't have full control of the loaded file. Please open an issue on GitHub for any issues related to this experimental feature.\n",
      "  checkpoint = torch.load(filepath, map_location=device)\n",
      "Evaluating: 100%|██████████| 290/290 [17:03<00:00,  3.53s/it]"
     ]
    },
    {
     "name": "stdout",
     "output_type": "stream",
     "text": [
      "Test Loss: 10.021\n"
     ]
    },
    {
     "name": "stderr",
     "output_type": "stream",
     "text": [
      "\n"
     ]
    }
   ],
   "source": [
    "# Load the best model for testing\n",
    "best_model, _ = load_model('best_model.pth', device)\n",
    "test_loss = evaluate(best_model, test_loader, criterion, device)\n",
    "print(f'Test Loss: {test_loss:.3f}')"
   ]
  },
  {
   "cell_type": "code",
   "execution_count": 27,
   "metadata": {},
   "outputs": [
    {
     "name": "stderr",
     "output_type": "stream",
     "text": [
      "Generating summaries: 100%|██████████| 290/290 [02:45<00:00,  1.76it/s]\n"
     ]
    }
   ],
   "source": [
    "# Evaluate using ROUGE score\n",
    "rouge = Rouge()\n",
    "best_model.eval()\n",
    "predictions = []\n",
    "references = []\n",
    "\n",
    "with torch.no_grad():\n",
    "    for batch in tqdm(test_loader, desc=\"Generating summaries\"):\n",
    "        src, trg = batch\n",
    "        src = src.to(device)\n",
    "        pred = beam_search(best_model, src, vocab, inv_vocab, min_length=10, device=device)  # Correct function call\n",
    "        predictions.extend([' '.join(pred)])\n",
    "        references.extend([' '.join([inv_vocab[idx.item()] for idx in trg[0] if idx.item() not in [vocab['<sos>'], vocab['<eos>'], vocab['<pad>']]])])\n",
    "\n"
   ]
  },
  {
   "cell_type": "code",
   "execution_count": 28,
   "metadata": {},
   "outputs": [
    {
     "name": "stdout",
     "output_type": "stream",
     "text": [
      "ROUGE scores: {'rouge-1': {'r': 0.0015725715573585756, 'p': 0.0033456486042692936, 'f': 0.002126230486545151}, 'rouge-2': {'r': 0.0, 'p': 0.0, 'f': 0.0}, 'rouge-l': {'r': 0.0015725715573585756, 'p': 0.0033456486042692936, 'f': 0.002126230486545151}}\n"
     ]
    }
   ],
   "source": [
    "min_length = 10\n",
    "predictions = [' '.join(pred[:min_length]) for pred in predictions]\n",
    "scores = rouge.get_scores(predictions, references, avg=True)\n",
    "print(\"ROUGE scores:\", scores)"
   ]
  },
  {
   "cell_type": "code",
   "execution_count": 32,
   "metadata": {},
   "outputs": [
    {
     "name": "stdout",
     "output_type": "stream",
     "text": [
      "Loading pre-trained model...\n"
     ]
    },
    {
     "name": "stderr",
     "output_type": "stream",
     "text": [
      "C:\\Users\\samee\\AppData\\Local\\Temp\\ipykernel_34780\\67957849.py:3: FutureWarning: You are using `torch.load` with `weights_only=False` (the current default value), which uses the default pickle module implicitly. It is possible to construct malicious pickle data which will execute arbitrary code during unpickling (See https://github.com/pytorch/pytorch/blob/main/SECURITY.md#untrusted-models for more details). In a future release, the default value for `weights_only` will be flipped to `True`. This limits the functions that could be executed during unpickling. Arbitrary objects will no longer be allowed to be loaded via this mode unless they are explicitly allowlisted by the user via `torch.serialization.add_safe_globals`. We recommend you start setting `weights_only=True` for any use case where you don't have full control of the loaded file. Please open an issue on GitHub for any issues related to this experimental feature.\n",
      "  checkpoint = torch.load(filepath, map_location=device)\n"
     ]
    }
   ],
   "source": [
    "print(\"Loading pre-trained model...\")\n",
    "trained_model, checkpoint = load_model('best_model.pth', device)\n",
    "vocab = checkpoint['vocab']\n",
    "inv_vocab = {v: k for k, v in vocab.items()}\n",
    "trained_model = trained_model.to(device)"
   ]
  },
  {
   "cell_type": "code",
   "execution_count": 34,
   "metadata": {},
   "outputs": [],
   "source": [
    "# Modified Summarization bot\n",
    "def summarize_text(model, vocab, inv_vocab, text, max_length=100, min_length=10, beam_width=3, device='cpu', debug=False):\n",
    "    model.eval()\n",
    "    tokens = tokenize(text)[:max_length]\n",
    "    indices = [vocab['<sos>']] + [vocab.get(token, vocab['<unk>']) for token in tokens] + [vocab['<eos>']]\n",
    "    src = torch.LongTensor(indices).unsqueeze(0).to(device)\n",
    "\n",
    "    summary = beam_search(model, src, vocab, inv_vocab, beam_width, max_length, min_length, device)\n",
    "\n",
    "    if debug:\n",
    "        print(\"Input tokens:\", tokens)\n",
    "        print(\"Input indices:\", indices)\n",
    "        print(\"Generated indices:\", [vocab[word] for word in summary])\n",
    "        print(\"Summary length:\", len(summary))\n",
    "\n",
    "    return ' '.join(summary)"
   ]
  },
  {
   "cell_type": "code",
   "execution_count": 35,
   "metadata": {},
   "outputs": [
    {
     "name": "stdout",
     "output_type": "stream",
     "text": [
      "Input tokens: ['ऑस्ट्रेलिया', 'ने', 'ब्लूमफोनटीन', 'में', 'पहले', 'वनडे', 'में', 'दक्षिण', 'अफ्रीका', 'को', '3-विकेट', 'से', 'हरा', 'दिया।', 'यह', '12', 'वर्षों', 'में', 'दक्षिण', 'अफ्रीका', 'के', 'खिलाफ', 'उसकी', 'धरती', 'पर', 'ऑस्ट्रेलिया', 'की', 'पहली', 'वनडे', 'जीत', 'है।', 'ऑस्ट्रेलिया', 'का', 'स्कोर', '16.3', 'ओवर', 'में', '113/7', 'था', 'लेकिन', 'मार्नस', 'लबुशेन', 'और', 'ऐश्टन', 'एगर', 'की', '112', '*', 'रनों', 'की', 'साझेदारी', 'की', 'बदौलत', 'उसने', '40.2', 'ओवर', 'में', 'लक्ष्य', 'हासिल', 'कर', 'लिया।']\n",
      "Input indices: [2, 4910, 37, 8412, 14, 193, 7443, 14, 2425, 2426, 10, 8413, 86, 7167, 96, 67, 1330, 1254, 14, 2425, 2426, 12, 189, 274, 8414, 50, 4910, 8, 725, 7443, 2940, 35, 4910, 71, 7770, 8415, 7479, 14, 8416, 428, 596, 7627, 7628, 43, 8417, 8418, 8, 15054, 1, 7930, 8, 3882, 8, 7536, 434, 8420, 7479, 14, 4471, 4275, 20, 1960, 3]\n",
      "Generated indices: [4910, 10, 1251, 7443, 1249, 7458, 5140, 8, 725, 2940, 2524, 14, 86, 7751, 7751, 630, 630, 630, 630, 10993, 2068, 630, 64, 630, 630, 10993, 630, 630, 2381, 630, 630, 2381, 630, 7923, 164, 2381, 2381, 630, 2381, 630, 2381, 630, 2381, 630, 2381, 630, 2381, 630, 2381, 630, 1549, 1549, 1549, 1549, 1549, 1549, 1549, 64, 3373, 43, 3373, 12, 346, 1742, 3373, 12, 7979, 3373, 12, 1549, 630, 64, 3373, 43, 3373, 12, 1549, 2345, 3373, 12, 4056, 476, 21846, 12, 16470, 64, 12, 1549, 6143, 64, 12, 1549, 2345, 3373, 6143, 64, 968, 5317]\n",
      "Summary length: 98\n",
      "Generated Summary:\n",
      "ऑस्ट्रेलिया को मिली वनडे विश्व कप जीतने की पहली जीत मैच में से हराया हराया ? ? ? ? आईं जवाब ? ' ? ? आईं ? ? प्रदर्शन ? ? प्रदर्शन ? टॉप भी प्रदर्शन प्रदर्शन ? प्रदर्शन ? प्रदर्शन ? प्रदर्शन ? प्रदर्शन ? प्रदर्शन ? प्रदर्शन ? एलान एलान एलान एलान एलान एलान एलान ' सुनक और सुनक के मामले मंत्रालय सुनक के आंकड़े सुनक के एलान ? ' सुनक और सुनक के एलान : सुनक के पार हैं हमास के दावेदार ' के एलान राउत ' के एलान : सुनक राउत ' जो आलिया\n",
      "Summary length: 98\n"
     ]
    }
   ],
   "source": [
    "# Example usage of the summarization bot\n",
    "input_text = \"ऑस्ट्रेलिया ने ब्लूमफोनटीन में पहले वनडे में दक्षिण अफ्रीका को 3-विकेट से हरा दिया। यह 12 वर्षों में दक्षिण अफ्रीका के खिलाफ उसकी धरती पर ऑस्ट्रेलिया की पहली वनडे जीत है। ऑस्ट्रेलिया का स्कोर 16.3 ओवर में 113/7 था लेकिन मार्नस लबुशेन और ऐश्टन एगर की 112* रनों की साझेदारी की बदौलत उसने 40.2 ओवर में लक्ष्य हासिल कर लिया।\"\n",
    "summary = summarize_text(trained_model, vocab, inv_vocab, input_text, min_length=10, device=device, debug=True)\n",
    "print(\"Generated Summary:\")\n",
    "print(summary)\n",
    "print(\"Summary length:\", len(summary.split()))"
   ]
  },
  {
   "cell_type": "markdown",
   "metadata": {},
   "source": [
    "test"
   ]
  },
  {
   "cell_type": "code",
   "execution_count": 29,
   "metadata": {},
   "outputs": [
    {
     "name": "stderr",
     "output_type": "stream",
     "text": [
      "C:\\Users\\samee\\AppData\\Local\\Temp\\ipykernel_34780\\67957849.py:3: FutureWarning: You are using `torch.load` with `weights_only=False` (the current default value), which uses the default pickle module implicitly. It is possible to construct malicious pickle data which will execute arbitrary code during unpickling (See https://github.com/pytorch/pytorch/blob/main/SECURITY.md#untrusted-models for more details). In a future release, the default value for `weights_only` will be flipped to `True`. This limits the functions that could be executed during unpickling. Arbitrary objects will no longer be allowed to be loaded via this mode unless they are explicitly allowlisted by the user via `torch.serialization.add_safe_globals`. We recommend you start setting `weights_only=True` for any use case where you don't have full control of the loaded file. Please open an issue on GitHub for any issues related to this experimental feature.\n",
      "  checkpoint = torch.load(filepath, map_location=device)\n",
      "Evaluating: 100%|██████████| 290/290 [20:09<00:00,  4.17s/it]\n"
     ]
    },
    {
     "name": "stdout",
     "output_type": "stream",
     "text": [
      "Test Loss: 12.468\n"
     ]
    },
    {
     "name": "stderr",
     "output_type": "stream",
     "text": [
      "Generating summaries: 100%|██████████| 290/290 [02:17<00:00,  2.12it/s]"
     ]
    },
    {
     "name": "stdout",
     "output_type": "stream",
     "text": [
      "ROUGE scores:\n",
      "{'rouge-1': {'r': 0.22712776523975425, 'p': 0.10542996410608002, 'f': 0.1357545482316657}, 'rouge-2': {'r': 0.023370290107505846, 'p': 0.007820045112905967, 'f': 0.010576495702988985}, 'rouge-l': {'r': 0.19055050104812576, 'p': 0.08875625027068168, 'f': 0.11397768391907201}}\n"
     ]
    },
    {
     "name": "stderr",
     "output_type": "stream",
     "text": [
      "\n"
     ]
    }
   ],
   "source": [
    "# Load the best model for testing\n",
    "best_model, _ = load_model('best_model.pth', device)\n",
    "\n",
    "# Test the model\n",
    "test_loss = evaluate(best_model, test_loader, criterion, device)\n",
    "print(f'Test Loss: {test_loss:.3f}')\n",
    "\n",
    "# Evaluate using ROUGE score\n",
    "rouge = Rouge()\n",
    "best_model.eval()\n",
    "predictions = []\n",
    "references = []\n",
    "with torch.no_grad():\n",
    "    for batch in tqdm(test_loader, desc=\"Generating summaries\"):\n",
    "        src, trg = batch\n",
    "        src = src.to(device)\n",
    "        pred = beam_search(best_model, src, vocab, inv_vocab, min_length=10, device=device)  # Set minimum length\n",
    "        predictions.extend([' '.join(pred)])\n",
    "        references.extend([' '.join([inv_vocab[idx.item()] for idx in trg[0] if idx.item() not in [vocab['<sos>'], vocab['<eos>'], vocab['<pad>']]])])\n",
    "\n",
    "# Ensure all predictions meet the minimum length\n",
    "min_length = 10  # Set this to your desired minimum length\n",
    "predictions = [p if len(p.split()) >= min_length else p + ' ' + ' '.join(['<pad>'] * (min_length - len(p.split()))) for p in predictions]\n",
    "\n",
    "scores = rouge.get_scores(predictions, references, avg=True)\n",
    "print(\"ROUGE scores:\")\n",
    "print(scores)"
   ]
  }
 ],
 "metadata": {
  "kernelspec": {
   "display_name": "Python 3",
   "language": "python",
   "name": "python3"
  },
  "language_info": {
   "codemirror_mode": {
    "name": "ipython",
    "version": 3
   },
   "file_extension": ".py",
   "mimetype": "text/x-python",
   "name": "python",
   "nbconvert_exporter": "python",
   "pygments_lexer": "ipython3",
   "version": "3.12.7"
  }
 },
 "nbformat": 4,
 "nbformat_minor": 2
}
